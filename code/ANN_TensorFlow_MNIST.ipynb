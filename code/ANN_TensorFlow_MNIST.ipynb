{
  "nbformat": 4,
  "nbformat_minor": 0,
  "metadata": {
    "colab": {
      "provenance": [],
      "include_colab_link": true
    },
    "kernelspec": {
      "name": "python3",
      "display_name": "Python 3"
    },
    "accelerator": "GPU"
  },
  "cells": [
    {
      "cell_type": "markdown",
      "metadata": {
        "id": "view-in-github",
        "colab_type": "text"
      },
      "source": [
        "<a href=\"https://colab.research.google.com/github/Baldezo313/Artificial-Neural-Networks/blob/main/code/ANN_TensorFlow_MNIST.ipynb\" target=\"_parent\"><img src=\"https://colab.research.google.com/assets/colab-badge.svg\" alt=\"Open In Colab\"/></a>"
      ]
    },
    {
      "cell_type": "code",
      "metadata": {
        "id": "PKU5k19AKvue"
      },
      "source": [
        "#How to install libraries that are not pre-installed on Colab\n",
        "!pip install patchify\n",
        "!pip install tensorflow-gpu"
      ],
      "execution_count": null,
      "outputs": []
    },
    {
      "cell_type": "code",
      "metadata": {
        "id": "AQQH_HKR46wU"
      },
      "source": [
        "#Import needed libraries\n",
        "import tensorflow as tf\n",
        "from tensorflow.keras import datasets\n",
        "import numpy as np\n",
        "import matplotlib.pyplot as plt"
      ],
      "execution_count": null,
      "outputs": []
    },
    {
      "cell_type": "code",
      "metadata": {
        "colab": {
          "base_uri": "https://localhost:8080/"
        },
        "id": "syAf-233LPtr",
        "outputId": "861e8387-6959-453e-c028-3848729fcca6"
      },
      "source": [
        "#Check if GPU is used\n",
        "my_gpu_device_name = tf.test.gpu_device_name()\n",
        "\n",
        "if my_gpu_device_name != '/device:GPU:0':\n",
        "  raise SystemError('GPU not found!')\n",
        "\n",
        "print(f'Available GPU : {my_gpu_device_name}')"
      ],
      "execution_count": null,
      "outputs": [
        {
          "output_type": "stream",
          "name": "stdout",
          "text": [
            "Available GPU : /device:GPU:0\n"
          ]
        }
      ]
    },
    {
      "cell_type": "code",
      "metadata": {
        "colab": {
          "base_uri": "https://localhost:8080/"
        },
        "id": "hFAKuCL-Lv3s",
        "outputId": "5ecd9d01-bec8-457e-c93f-95369d1e2885"
      },
      "source": [
        "#Check which GPU\n",
        "gpu_info = !nvidia-smi\n",
        "gpu_info = '\\n'.join(gpu_info)\n",
        "\n",
        "if gpu_info.find('failed') >= 0:\n",
        "  print('Select the Runtime > \"Change runtime type\" menu to enable a GPU accelerator, ')\n",
        "  print('and then re-execute this cell.')\n",
        "else:\n",
        "  print(gpu_info)"
      ],
      "execution_count": null,
      "outputs": [
        {
          "output_type": "stream",
          "name": "stdout",
          "text": [
            "Sat Mar 12 09:22:34 2022       \n",
            "+-----------------------------------------------------------------------------+\n",
            "| NVIDIA-SMI 460.32.03    Driver Version: 460.32.03    CUDA Version: 11.2     |\n",
            "|-------------------------------+----------------------+----------------------+\n",
            "| GPU  Name        Persistence-M| Bus-Id        Disp.A | Volatile Uncorr. ECC |\n",
            "| Fan  Temp  Perf  Pwr:Usage/Cap|         Memory-Usage | GPU-Util  Compute M. |\n",
            "|                               |                      |               MIG M. |\n",
            "|===============================+======================+======================|\n",
            "|   0  Tesla V100-SXM2...  Off  | 00000000:00:04.0 Off |                    0 |\n",
            "| N/A   34C    P0    37W / 300W |    471MiB / 16160MiB |      0%      Default |\n",
            "|                               |                      |                  N/A |\n",
            "+-------------------------------+----------------------+----------------------+\n",
            "                                                                               \n",
            "+-----------------------------------------------------------------------------+\n",
            "| Processes:                                                                  |\n",
            "|  GPU   GI   CI        PID   Type   Process name                  GPU Memory |\n",
            "|        ID   ID                                                   Usage      |\n",
            "|=============================================================================|\n",
            "+-----------------------------------------------------------------------------+\n"
          ]
        }
      ]
    },
    {
      "cell_type": "code",
      "metadata": {
        "colab": {
          "base_uri": "https://localhost:8080/"
        },
        "id": "qXOPWebGMXpW",
        "outputId": "40c3a36b-f46f-40b8-8f5f-ebd8ef8e6966"
      },
      "source": [
        "#Check how much memory is still available\n",
        "from psutil import virtual_memory\n",
        "ram_gb = virtual_memory().total / 1e9\n",
        "print('Your runtime has {:.1f} gigabytes of available RAM\\n'.format(ram_gb))\n",
        "\n",
        "if ram_gb < 20:\n",
        "  print('To enable a high-RAM runtime, select the Runtime > \"Change runtime type\"')\n",
        "  print('menu, and then select High-RAM in the Runtime shape dropdown. Then, ')\n",
        "  print('re-execute this cell.')\n",
        "else:\n",
        "  print('You are using a high-RAM runtime!')"
      ],
      "execution_count": null,
      "outputs": [
        {
          "output_type": "stream",
          "name": "stdout",
          "text": [
            "Your runtime has 54.8 gigabytes of available RAM\n",
            "\n",
            "You are using a high-RAM runtime!\n"
          ]
        }
      ]
    },
    {
      "cell_type": "code",
      "metadata": {
        "colab": {
          "base_uri": "https://localhost:8080/"
        },
        "id": "Bh7ak4ty6Xzj",
        "outputId": "209bfb3e-0680-43a3-f598-4e01528b2434"
      },
      "source": [
        "print(tf.__version__)   #show the version of TensorFlow we are using"
      ],
      "execution_count": null,
      "outputs": [
        {
          "output_type": "stream",
          "name": "stdout",
          "text": [
            "2.8.0\n"
          ]
        }
      ]
    },
    {
      "cell_type": "code",
      "metadata": {
        "colab": {
          "base_uri": "https://localhost:8080/"
        },
        "id": "ye9z963o9PTI",
        "outputId": "794671ac-bf6f-41ee-bf1d-6ce9ee560282"
      },
      "source": [
        "#Load the MNIST dataset\n",
        "mnist = datasets.mnist\n",
        "(x_train, y_train), (x_test, y_test) = mnist.load_data()"
      ],
      "execution_count": null,
      "outputs": [
        {
          "output_type": "stream",
          "name": "stdout",
          "text": [
            "Downloading data from https://storage.googleapis.com/tensorflow/tf-keras-datasets/mnist.npz\n",
            "11493376/11490434 [==============================] - 0s 0us/step\n",
            "11501568/11490434 [==============================] - 0s 0us/step\n"
          ]
        }
      ]
    },
    {
      "cell_type": "code",
      "metadata": {
        "colab": {
          "base_uri": "https://localhost:8080/",
          "height": 170
        },
        "id": "DWFpWU_b_Gff",
        "outputId": "e05230f3-39c4-456d-e729-cff6e445d2ae"
      },
      "source": [
        "\n",
        "#Visualise a few examples\n",
        "plt.figure(figsize=(10, 2))\n",
        "for index, (image, label) in enumerate(zip(x_train[0:5], y_train[0:5])):\n",
        "    plt.subplot(1, 5, index + 1)\n",
        "    #print(np.shape(image))\n",
        "    plt.imshow(image, cmap=plt.cm.gray)\n",
        "    plt.title('Training: {}\\n'.format(label), fontsize = 10)"
      ],
      "execution_count": null,
      "outputs": [
        {
          "output_type": "display_data",
          "data": {
            "text/plain": [
              "<Figure size 720x144 with 5 Axes>"
            ],
            "image/png": "[encoded data removed]"
          },
          "metadata": {
            "needs_background": "light"
          }
        }
      ]
    },
    {
      "cell_type": "code",
      "metadata": {
        "id": "eBtv5C4E99Ed"
      },
      "source": [
        "#Convert data from integers to floating-point numbers (between 0 and 1)\n",
        "x_train, x_test = x_train / 255.0, x_test / 255.0"
      ],
      "execution_count": null,
      "outputs": []
    },
    {
      "cell_type": "code",
      "metadata": {
        "id": "7kVw3iEGKoua"
      },
      "source": [
        "#Build the tf.keras.Sequential model by adding a layer after another\n",
        "model = tf.keras.models.Sequential()\n",
        "model.add(tf.keras.layers.Flatten(input_shape=(28, 28)))\n",
        "model.add(tf.keras.layers.Dense(128, activation='relu'))\n",
        "#model.add(tf.keras.layers.Dropout(0.2))\n",
        "model.add(tf.keras.layers.Dense(10, activation='softmax'))"
      ],
      "execution_count": null,
      "outputs": []
    },
    {
      "cell_type": "code",
      "metadata": {
        "id": "kyJTqcS3LrlG"
      },
      "source": [
        "#Compile the model : add optimizer, loss, and performance evaluation metrics\n",
        "model.compile(optimizer='adam',\n",
        "              loss='sparse_categorical_crossentropy',\n",
        "              #'sparse_categorical_crossentropy' used when the true labels are integers\n",
        "              #and 'categorical_crossentropy' is used when the true labels are one-hot encoded\n",
        "              metrics=['accuracy'])"
      ],
      "execution_count": null,
      "outputs": []
    },
    {
      "cell_type": "code",
      "source": [
        "print(np.shape(x_train))\n",
        "print(np.shape(x_test))"
      ],
      "metadata": {
        "colab": {
          "base_uri": "https://localhost:8080/"
        },
        "id": "sZlH3n_mnSkY",
        "outputId": "fbdeb4f3-3999-4456-bba3-f2c79e6d69c3"
      },
      "execution_count": null,
      "outputs": [
        {
          "output_type": "stream",
          "name": "stdout",
          "text": [
            "(60000, 28, 28)\n",
            "(10000, 28, 28)\n"
          ]
        }
      ]
    },
    {
      "cell_type": "code",
      "metadata": {
        "colab": {
          "base_uri": "https://localhost:8080/"
        },
        "id": "OYzF5nHSL31A",
        "outputId": "be11a9b8-9e8e-4e67-c52b-937dd3650a3b"
      },
      "source": [
        "#Train\n",
        "model.fit(x_train, y_train, epochs=20)  #default batch_size = 32"
      ],
      "execution_count": null,
      "outputs": [
        {
          "output_type": "stream",
          "name": "stdout",
          "text": [
            "Epoch 1/20\n",
            "1875/1875 [==============================] - 6s 2ms/step - loss: 0.2581 - accuracy: 0.9257\n",
            "Epoch 2/20\n",
            "1875/1875 [==============================] - 4s 2ms/step - loss: 0.1105 - accuracy: 0.9675\n",
            "Epoch 3/20\n",
            "1875/1875 [==============================] - 3s 2ms/step - loss: 0.0755 - accuracy: 0.9772\n",
            "Epoch 4/20\n",
            "1875/1875 [==============================] - 3s 2ms/step - loss: 0.0570 - accuracy: 0.9821\n",
            "Epoch 5/20\n",
            "1875/1875 [==============================] - 3s 2ms/step - loss: 0.0434 - accuracy: 0.9864\n",
            "Epoch 6/20\n",
            "1875/1875 [==============================] - 3s 2ms/step - loss: 0.0332 - accuracy: 0.9894\n",
            "Epoch 7/20\n",
            "1875/1875 [==============================] - 3s 2ms/step - loss: 0.0273 - accuracy: 0.9916\n",
            "Epoch 8/20\n",
            "1875/1875 [==============================] - 3s 2ms/step - loss: 0.0215 - accuracy: 0.9937\n",
            "Epoch 9/20\n",
            "1875/1875 [==============================] - 3s 2ms/step - loss: 0.0182 - accuracy: 0.9944\n",
            "Epoch 10/20\n",
            "1875/1875 [==============================] - 3s 2ms/step - loss: 0.0150 - accuracy: 0.9955\n",
            "Epoch 11/20\n",
            "1875/1875 [==============================] - 3s 2ms/step - loss: 0.0126 - accuracy: 0.9961\n",
            "Epoch 12/20\n",
            "1875/1875 [==============================] - 3s 2ms/step - loss: 0.0104 - accuracy: 0.9968\n",
            "Epoch 13/20\n",
            "1875/1875 [==============================] - 3s 2ms/step - loss: 0.0096 - accuracy: 0.9970\n",
            "Epoch 14/20\n",
            "1875/1875 [==============================] - 3s 2ms/step - loss: 0.0081 - accuracy: 0.9976\n",
            "Epoch 15/20\n",
            "1875/1875 [==============================] - 3s 2ms/step - loss: 0.0081 - accuracy: 0.9975\n",
            "Epoch 16/20\n",
            "1875/1875 [==============================] - 3s 2ms/step - loss: 0.0070 - accuracy: 0.9978\n",
            "Epoch 17/20\n",
            "1875/1875 [==============================] - 3s 2ms/step - loss: 0.0069 - accuracy: 0.9976\n",
            "Epoch 18/20\n",
            "1875/1875 [==============================] - 3s 2ms/step - loss: 0.0055 - accuracy: 0.9984\n",
            "Epoch 19/20\n",
            "1875/1875 [==============================] - 3s 2ms/step - loss: 0.0054 - accuracy: 0.9982\n",
            "Epoch 20/20\n",
            "1875/1875 [==============================] - 3s 2ms/step - loss: 0.0050 - accuracy: 0.9981\n"
          ]
        },
        {
          "output_type": "execute_result",
          "data": {
            "text/plain": [
              "<keras.callbacks.History at 0x7fd254fc3e10>"
            ]
          },
          "metadata": {},
          "execution_count": 19
        }
      ]
    },
    {
      "cell_type": "code",
      "metadata": {
        "colab": {
          "base_uri": "https://localhost:8080/"
        },
        "id": "-X9EnQchL5p-",
        "outputId": "5ae2ca48-d2ad-48e6-c5b1-9a097aae5bdb"
      },
      "source": [
        "#Evaluate\n",
        "loss, accuracy = model.evaluate(x_test, y_test)\n",
        "print(\"loss = {}, accuracy = {}\".format(loss, accuracy))"
      ],
      "execution_count": null,
      "outputs": [
        {
          "output_type": "stream",
          "name": "stdout",
          "text": [
            "313/313 [==============================] - 1s 2ms/step - loss: 0.1020 - accuracy: 0.9788\n",
            "loss = 0.1020134761929512, accuracy = 0.9787999987602234\n"
          ]
        }
      ]
    },
    {
      "cell_type": "code",
      "metadata": {
        "id": "5gDLQkHfshFS"
      },
      "source": [
        "from sklearn import metrics\n",
        "predictions = model.predict(x_test)  #gives the probabilities of belonging of this image to the classes\n",
        "print(predictions)"
      ],
      "execution_count": null,
      "outputs": []
    },
    {
      "cell_type": "code",
      "source": [
        "#To get the classes:\n",
        "classes = np.argmax(predictions, axis = 1)  #finds the index of the highest value in each row, axis=1 means that the operation is across rows\n",
        "print(classes)"
      ],
      "metadata": {
        "colab": {
          "base_uri": "https://localhost:8080/"
        },
        "id": "pn2Y0d9Ts9zi",
        "outputId": "65f082eb-150b-4482-9d9b-da806e8358c1"
      },
      "execution_count": null,
      "outputs": [
        {
          "output_type": "stream",
          "name": "stdout",
          "text": [
            "[7 2 1 ... 4 5 6]\n"
          ]
        }
      ]
    },
    {
      "cell_type": "code",
      "metadata": {
        "colab": {
          "base_uri": "https://localhost:8080/",
          "height": 291
        },
        "id": "2oiDR-OOxtgB",
        "outputId": "d492c8f0-f999-4d6e-d430-03672537cfb6"
      },
      "source": [
        "#Visualise\n",
        "plt.figure(figsize=(20, 4))\n",
        "for index, (image, label) in enumerate(zip(x_test[0:10], classes[0:10])):\n",
        "    plt.subplot(2, 5, index + 1)\n",
        "    plt.imshow(image, cmap=plt.cm.gray)\n",
        "    plt.title('Training: {}\\n'.format(label), fontsize = 10)"
      ],
      "execution_count": null,
      "outputs": [
        {
          "output_type": "display_data",
          "data": {
            "text/plain": [
              "<Figure size 1440x288 with 10 Axes>"
            ],
            "image/png": "[encoded data removed]"
          },
          "metadata": {
            "needs_background": "light"
          }
        }
      ]
    },
    {
      "cell_type": "code",
      "metadata": {
        "colab": {
          "base_uri": "https://localhost:8080/",
          "height": 543
        },
        "id": "jOidl5Lnw67S",
        "outputId": "4aa9bc5d-027d-4520-fbb2-6d8b465a8aa2"
      },
      "source": [
        "import seaborn as sns\n",
        "cm = metrics.confusion_matrix(y_test, classes, normalize='true')\n",
        "plt.figure(figsize=(9,9))\n",
        "sns.heatmap(cm, annot=True, fmt=\".3f\", linewidths=.5, square = True, cmap = 'Blues_r')\n",
        "plt.ylabel('Actual label')\n",
        "plt.xlabel('Predicted label')\n",
        "all_sample_title = 'Accuracy = {0}'.format(accuracy)\n",
        "plt.title(all_sample_title, size = 15)"
      ],
      "execution_count": null,
      "outputs": [
        {
          "output_type": "execute_result",
          "data": {
            "text/plain": [
              "Text(0.5, 1.0, 'Accuracy = 0.9787999987602234')"
            ]
          },
          "metadata": {},
          "execution_count": 30
        },
        {
          "output_type": "display_data",
          "data": {
            "text/plain": [
              "<Figure size 648x648 with 2 Axes>"
            ],
            "image/png": "[encoded data removed]"
          },
          "metadata": {
            "needs_background": "light"
          }
        }
      ]
    },
    {
      "cell_type": "code",
      "metadata": {
        "id": "nkIblM_yFzBI"
      },
      "source": [
        "#Callbacks : A callback performs actions at various stages of training (e.g. at the start or end of an epoch, before or after a single batch)\n",
        "#Early Stopping\n",
        "from tensorflow.keras.callbacks import EarlyStopping, ModelCheckpoint, TensorBoard, CSVLogger\n",
        "import os, datetime\n",
        "\n",
        "early_stopping = EarlyStopping(monitor='val_loss', patience=5)  #which quantity to monitor to decide early stopping\n",
        "#patience = the number of epochs to wait before stopping\n",
        "\n",
        "#Notice that since we set patience=5, we won’t get the best model, but the model 5 epochs after the best model.\n",
        "#==> An additional callback is required that saves the best model observed during training. This is the ModelCheckpoint callback\n",
        "\n",
        "model_checkpoint = ModelCheckpoint(filepath='best_model.h5', monitor='val_loss', save_best_only=True)\n",
        "\n",
        "logdir = os.path.join(\"logs\", datetime.datetime.now().strftime(\"%Y%m%d-%H%M%S\"))\n",
        "tnsrboard = TensorBoard(logdir, histogram_freq=1)\n",
        "\n",
        "csv_log_path = \"/content/logs.csv\"\n",
        "csv_logger = CSVLogger(csv_log_path, append=True, separator=',')\n",
        "\n",
        "callbacks = [early_stopping, model_checkpoint, tnsrboard, csv_logger]\n",
        "\n",
        "history = model.fit(\n",
        "    x_train,\n",
        "    y_train,\n",
        "    epochs=50,\n",
        "    validation_split=0.25,\n",
        "    batch_size=40,\n",
        "    verbose=2,\n",
        "    callbacks=[callbacks]\n",
        ")"
      ],
      "execution_count": null,
      "outputs": []
    },
    {
      "cell_type": "code",
      "source": [
        "#The saved model can then be loaded and evaluated any time by calling the load_model() method\n",
        "from keras.models import load_model\n",
        "saved_model = load_model('best_model.h5')\n",
        "\n",
        "test_acc = saved_model.evaluate(x_test, y_test)"
      ],
      "metadata": {
        "id": "YmJRjWdY2pyz"
      },
      "execution_count": null,
      "outputs": []
    },
    {
      "cell_type": "code",
      "metadata": {
        "colab": {
          "base_uri": "https://localhost:8080/",
          "height": 821
        },
        "id": "4Vtuq6aPG4Hb",
        "outputId": "e731e129-89e6-48f8-e0fc-53389b1a8d99"
      },
      "source": [
        "%load_ext tensorboard\n",
        "%tensorboard --logdir logs"
      ],
      "execution_count": null,
      "outputs": []
    },
    {
      "cell_type": "code",
      "metadata": {
        "id": "oCvdB45H-aUT"
      },
      "source": [
        "'''#Regularizers :\n",
        "from tensorflow.keras.regularizers import l2, l1\n",
        "model.add(tf.keras.layers.Dense(128, activation='relu'))\n",
        "model.add(tf.keras.layers.Dropout(0.2))\n",
        "model.add(tf.keras.layers.Dense(4, activation='relu', kernel_regularizer=l1(l=0.1)))\n",
        "model.add(tf.keras.layers.Dense(4, activation='relu', kernel_regularizer=tensorflow.keras.regularizers.l1_l2(l1=0.1, l2=0.01)))\n",
        "'''"
      ],
      "execution_count": null,
      "outputs": []
    }
  ]
}