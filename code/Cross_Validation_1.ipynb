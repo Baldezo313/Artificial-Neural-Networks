{
  "nbformat": 4,
  "nbformat_minor": 0,
  "metadata": {
    "colab": {
      "provenance": [],
      "include_colab_link": true
    },
    "kernelspec": {
      "name": "python3",
      "display_name": "Python 3"
    }
  },
  "cells": [
    {
      "cell_type": "markdown",
      "metadata": {
        "id": "view-in-github",
        "colab_type": "text"
      },
      "source": [
        "<a href=\"https://colab.research.google.com/github/Baldezo313/Artificial-Neural-Networks/blob/main/code/Cross_Validation_1.ipynb\" target=\"_parent\"><img src=\"https://colab.research.google.com/assets/colab-badge.svg\" alt=\"Open In Colab\"/></a>"
      ]
    },
    {
      "cell_type": "code",
      "metadata": {
        "id": "4tSPVi4I2kf2"
      },
      "source": [
        "import pandas as pd\n",
        "dataset = pd.read_csv('/content/drive/MyDrive/vatIAtech/DSTI/ANN/practical/Churn_Modelling.csv')\n",
        "X = dataset.iloc[:, 3: 13].values\n",
        "y = dataset.iloc[:, 13].values"
      ],
      "execution_count": null,
      "outputs": []
    },
    {
      "cell_type": "code",
      "metadata": {
        "id": "kbnbOHrp3B1I"
      },
      "source": [
        "from sklearn.preprocessing import LabelEncoder\n",
        "labelencoder_X_1 = LabelEncoder() #instantiate an object of the class LabelEncoder\n",
        "X[:, 1] = labelencoder_X_1.fit_transform(X[:, 1]) #ordinal encoding for column 1\n",
        "\n",
        "labelencoder_X_2 = LabelEncoder()\n",
        "X[:, 2] = labelencoder_X_2.fit_transform(X[:, 2]) #ordinal encoding for column 2"
      ],
      "execution_count": null,
      "outputs": []
    },
    {
      "cell_type": "code",
      "metadata": {
        "id": "muZ37OPc3JLR"
      },
      "source": [
        "from sklearn.preprocessing import OneHotEncoder\n",
        "from sklearn.compose import ColumnTransformer\n",
        "import numpy as np\n",
        "ct = ColumnTransformer( #'encoder' is the name of the column transformer\n",
        "    [('encoder', OneHotEncoder(), [1])],    # The column numbers to be transformed (here is [1] but can be [0, 1, 3])\n",
        "    remainder='passthrough'                         # Leave the rest of the columns untouched\n",
        ")\n",
        "X = np.array(ct.fit_transform(X), dtype=np.float)"
      ],
      "execution_count": null,
      "outputs": []
    },
    {
      "cell_type": "code",
      "metadata": {
        "id": "5Rhcxa3A3Ox0"
      },
      "source": [
        "X = X[:, 1:]"
      ],
      "execution_count": null,
      "outputs": []
    },
    {
      "cell_type": "code",
      "metadata": {
        "id": "h0ZsVnuy3Xaz"
      },
      "source": [
        "'''from sklearn.model_selection import train_test_split\n",
        "X_train, X_test, y_train, y_test = train_test_split(X, y,test_size = 0.2, random_state = 10) # We use random_state to make sure splitting contains the same data each time.\n",
        "'''"
      ],
      "execution_count": null,
      "outputs": []
    },
    {
      "cell_type": "code",
      "metadata": {
        "id": "_eoLFFgj3cXo"
      },
      "source": [
        "#Standardise the data (x_standardised = (x - x_mean)/std_dev)\n",
        "from sklearn.preprocessing import StandardScaler\n",
        "sc = StandardScaler()\n",
        "'''X_train = sc.fit_transform(X_train)\n",
        "X_test = sc.transform(X_test) #note that we use the scale set from the training set to transform the test set'''\n",
        "X = sc.fit_transform(X)"
      ],
      "execution_count": null,
      "outputs": []
    },
    {
      "cell_type": "code",
      "metadata": {
        "id": "d63UFeDX3hyv"
      },
      "source": [
        "import tensorflow as tf\n",
        "\n",
        "def create_model():\n",
        "  model = tf.keras.models.Sequential()\n",
        "\n",
        "  #add input layer and first hidden layer\n",
        "  model.add(tf.keras.layers.Dense(units=6, kernel_initializer='uniform', activation='relu'))\n",
        "\n",
        "  #add 2nd hidden layer\n",
        "  model.add(tf.keras.layers.Dense(units=6, kernel_initializer='uniform', activation='relu'))\n",
        "\n",
        "  #output layer\n",
        "  model.add(tf.keras.layers.Dense(units=1, kernel_initializer='uniform', activation='sigmoid')) #Sigmoid for binary, Softmax for multiclass\n",
        "\n",
        "  model.compile(optimizer = 'adam', loss ='binary_crossentropy', metrics = ['accuracy'])\n",
        "\n",
        "  return model"
      ],
      "execution_count": null,
      "outputs": []
    },
    {
      "cell_type": "code",
      "metadata": {
        "colab": {
          "base_uri": "https://localhost:8080/"
        },
        "id": "5yyA5EUh4-JT",
        "outputId": "246591e6-4021-4a98-f276-654fb24aa111"
      },
      "source": [
        "from sklearn.model_selection import KFold\n",
        "\n",
        "n_split = 4\n",
        "\n",
        "for train_index, test_index in KFold(n_split).split(X):\n",
        "  x_train, x_test = X[train_index], X[test_index]\n",
        "  y_train, y_test = y[train_index], y[test_index]\n",
        "\n",
        "  print(train_index)\n",
        "  print(test_index)\n",
        "\n",
        "  model = create_model()\n",
        "  model.fit(x_train, y_train, epochs=20, verbose=1, batch_size=10)\n",
        "\n",
        ""
      ],
      "execution_count": null,
      "outputs": [
        {
          "output_type": "stream",
          "name": "stdout",
          "text": [
            "[2500 2501 2502 ... 9997 9998 9999]\n",
            "[   0    1    2 ... 2497 2498 2499]\n",
            "Epoch 1/20\n",
            "750/750 [==============================] - 1s 1ms/step - loss: 0.4814 - accuracy: 0.7992\n",
            "Epoch 2/20\n",
            "750/750 [==============================] - 1s 1ms/step - loss: 0.4193 - accuracy: 0.8240\n",
            "Epoch 3/20\n",
            "750/750 [==============================] - 1s 1ms/step - loss: 0.4137 - accuracy: 0.8321\n",
            "Epoch 4/20\n",
            "750/750 [==============================] - 1s 1ms/step - loss: 0.4086 - accuracy: 0.8348\n",
            "Epoch 5/20\n",
            "750/750 [==============================] - 1s 1ms/step - loss: 0.4054 - accuracy: 0.8349\n",
            "Epoch 6/20\n",
            "750/750 [==============================] - 1s 1ms/step - loss: 0.4038 - accuracy: 0.8357\n",
            "Epoch 7/20\n",
            "750/750 [==============================] - 1s 1ms/step - loss: 0.4025 - accuracy: 0.8380\n",
            "Epoch 8/20\n",
            "750/750 [==============================] - 1s 1ms/step - loss: 0.4010 - accuracy: 0.8387\n",
            "Epoch 9/20\n",
            "750/750 [==============================] - 1s 1ms/step - loss: 0.3998 - accuracy: 0.8388\n",
            "Epoch 10/20\n",
            "750/750 [==============================] - 1s 1ms/step - loss: 0.3985 - accuracy: 0.8389\n",
            "Epoch 11/20\n",
            "750/750 [==============================] - 1s 1ms/step - loss: 0.3977 - accuracy: 0.8375\n",
            "Epoch 12/20\n",
            "750/750 [==============================] - 1s 1ms/step - loss: 0.3969 - accuracy: 0.8379\n",
            "Epoch 13/20\n",
            "750/750 [==============================] - 1s 1ms/step - loss: 0.3968 - accuracy: 0.8375\n",
            "Epoch 14/20\n",
            "750/750 [==============================] - 1s 1ms/step - loss: 0.3966 - accuracy: 0.8385\n",
            "Epoch 15/20\n",
            "750/750 [==============================] - 1s 1ms/step - loss: 0.3960 - accuracy: 0.8388\n",
            "Epoch 16/20\n",
            "750/750 [==============================] - 1s 1ms/step - loss: 0.3956 - accuracy: 0.8393\n",
            "Epoch 17/20\n",
            "750/750 [==============================] - 1s 1ms/step - loss: 0.3954 - accuracy: 0.8397\n",
            "Epoch 18/20\n",
            "750/750 [==============================] - 1s 1ms/step - loss: 0.3950 - accuracy: 0.8395\n",
            "Epoch 19/20\n",
            "750/750 [==============================] - 1s 1ms/step - loss: 0.3946 - accuracy: 0.8395\n",
            "Epoch 20/20\n",
            "750/750 [==============================] - 1s 1ms/step - loss: 0.3941 - accuracy: 0.8395\n",
            "[   0    1    2 ... 9997 9998 9999]\n",
            "[2500 2501 2502 ... 4997 4998 4999]\n",
            "Epoch 1/20\n",
            "750/750 [==============================] - 1s 1ms/step - loss: 0.4838 - accuracy: 0.7969\n",
            "Epoch 2/20\n",
            "750/750 [==============================] - 1s 1ms/step - loss: 0.4255 - accuracy: 0.7972\n",
            "Epoch 3/20\n",
            "750/750 [==============================] - 1s 1ms/step - loss: 0.4202 - accuracy: 0.7972\n",
            "Epoch 4/20\n",
            "750/750 [==============================] - 1s 1ms/step - loss: 0.4166 - accuracy: 0.8188\n",
            "Epoch 5/20\n",
            "750/750 [==============================] - 1s 1ms/step - loss: 0.4142 - accuracy: 0.8260\n",
            "Epoch 6/20\n",
            "750/750 [==============================] - 1s 1ms/step - loss: 0.4125 - accuracy: 0.8300\n",
            "Epoch 7/20\n",
            "750/750 [==============================] - 1s 1ms/step - loss: 0.4108 - accuracy: 0.8308\n",
            "Epoch 8/20\n",
            "750/750 [==============================] - 1s 1ms/step - loss: 0.4092 - accuracy: 0.8327\n",
            "Epoch 9/20\n",
            "750/750 [==============================] - 1s 1ms/step - loss: 0.4085 - accuracy: 0.8337\n",
            "Epoch 10/20\n",
            "750/750 [==============================] - 1s 1ms/step - loss: 0.4069 - accuracy: 0.8351\n",
            "Epoch 11/20\n",
            "750/750 [==============================] - 1s 1ms/step - loss: 0.4066 - accuracy: 0.8335\n",
            "Epoch 12/20\n",
            "750/750 [==============================] - 1s 1ms/step - loss: 0.4059 - accuracy: 0.8347\n",
            "Epoch 13/20\n",
            "750/750 [==============================] - 1s 1ms/step - loss: 0.4051 - accuracy: 0.8356\n",
            "Epoch 14/20\n",
            "750/750 [==============================] - 1s 1ms/step - loss: 0.4042 - accuracy: 0.8355\n",
            "Epoch 15/20\n",
            "750/750 [==============================] - 1s 1ms/step - loss: 0.4040 - accuracy: 0.8376\n",
            "Epoch 16/20\n",
            "750/750 [==============================] - 1s 1ms/step - loss: 0.4034 - accuracy: 0.8361\n",
            "Epoch 17/20\n",
            "750/750 [==============================] - 1s 1ms/step - loss: 0.4026 - accuracy: 0.8364\n",
            "Epoch 18/20\n",
            "750/750 [==============================] - 1s 1ms/step - loss: 0.4023 - accuracy: 0.8365\n",
            "Epoch 19/20\n",
            "750/750 [==============================] - 1s 1ms/step - loss: 0.4016 - accuracy: 0.8357\n",
            "Epoch 20/20\n",
            "750/750 [==============================] - 1s 1ms/step - loss: 0.4018 - accuracy: 0.8376\n",
            "[   0    1    2 ... 9997 9998 9999]\n",
            "[5000 5001 5002 ... 7497 7498 7499]\n",
            "Epoch 1/20\n",
            "750/750 [==============================] - 1s 1ms/step - loss: 0.4919 - accuracy: 0.7951\n",
            "Epoch 2/20\n",
            "750/750 [==============================] - 1s 1ms/step - loss: 0.4315 - accuracy: 0.7951\n",
            "Epoch 3/20\n",
            "750/750 [==============================] - 1s 1ms/step - loss: 0.4257 - accuracy: 0.7951\n",
            "Epoch 4/20\n",
            "750/750 [==============================] - 1s 1ms/step - loss: 0.4219 - accuracy: 0.8147\n",
            "Epoch 5/20\n",
            "750/750 [==============================] - 1s 1ms/step - loss: 0.4188 - accuracy: 0.8249\n",
            "Epoch 6/20\n",
            "750/750 [==============================] - 1s 1ms/step - loss: 0.4173 - accuracy: 0.8276\n",
            "Epoch 7/20\n",
            "750/750 [==============================] - 1s 1ms/step - loss: 0.4152 - accuracy: 0.8313\n",
            "Epoch 8/20\n",
            "750/750 [==============================] - 1s 1ms/step - loss: 0.4146 - accuracy: 0.8307\n",
            "Epoch 9/20\n",
            "750/750 [==============================] - 1s 1ms/step - loss: 0.4132 - accuracy: 0.8337\n",
            "Epoch 10/20\n",
            "750/750 [==============================] - 1s 1ms/step - loss: 0.4122 - accuracy: 0.8333\n",
            "Epoch 11/20\n",
            "750/750 [==============================] - 1s 1ms/step - loss: 0.4117 - accuracy: 0.8328\n",
            "Epoch 12/20\n",
            "750/750 [==============================] - 1s 1ms/step - loss: 0.4106 - accuracy: 0.8347\n",
            "Epoch 13/20\n",
            "750/750 [==============================] - 1s 1ms/step - loss: 0.4106 - accuracy: 0.8343\n",
            "Epoch 14/20\n",
            "750/750 [==============================] - 1s 1ms/step - loss: 0.4099 - accuracy: 0.8328\n",
            "Epoch 15/20\n",
            "750/750 [==============================] - 1s 1ms/step - loss: 0.4091 - accuracy: 0.8336\n",
            "Epoch 16/20\n",
            "750/750 [==============================] - 1s 1ms/step - loss: 0.4090 - accuracy: 0.8348\n",
            "Epoch 17/20\n",
            "750/750 [==============================] - 1s 1ms/step - loss: 0.4090 - accuracy: 0.8337\n",
            "Epoch 18/20\n",
            "750/750 [==============================] - 1s 1ms/step - loss: 0.4080 - accuracy: 0.8337\n",
            "Epoch 19/20\n",
            "750/750 [==============================] - 1s 1ms/step - loss: 0.4080 - accuracy: 0.8357\n",
            "Epoch 20/20\n",
            "750/750 [==============================] - 1s 1ms/step - loss: 0.4078 - accuracy: 0.8333\n",
            "[   0    1    2 ... 7497 7498 7499]\n",
            "[7500 7501 7502 ... 9997 9998 9999]\n",
            "Epoch 1/20\n",
            "750/750 [==============================] - 1s 1ms/step - loss: 0.4841 - accuracy: 0.7939\n",
            "Epoch 2/20\n",
            "750/750 [==============================] - 1s 1ms/step - loss: 0.4265 - accuracy: 0.7939\n",
            "Epoch 3/20\n",
            "750/750 [==============================] - 1s 1ms/step - loss: 0.4203 - accuracy: 0.8063\n",
            "Epoch 4/20\n",
            "750/750 [==============================] - 1s 1ms/step - loss: 0.4164 - accuracy: 0.8236\n",
            "Epoch 5/20\n",
            "750/750 [==============================] - 1s 1ms/step - loss: 0.4146 - accuracy: 0.8288\n",
            "Epoch 6/20\n",
            "750/750 [==============================] - 1s 1ms/step - loss: 0.4126 - accuracy: 0.8303\n",
            "Epoch 7/20\n",
            "750/750 [==============================] - 1s 1ms/step - loss: 0.4113 - accuracy: 0.8321\n",
            "Epoch 8/20\n",
            "750/750 [==============================] - 1s 1ms/step - loss: 0.4096 - accuracy: 0.8327\n",
            "Epoch 9/20\n",
            "750/750 [==============================] - 1s 1ms/step - loss: 0.4088 - accuracy: 0.8335\n",
            "Epoch 10/20\n",
            "750/750 [==============================] - 1s 1ms/step - loss: 0.4076 - accuracy: 0.8336\n",
            "Epoch 11/20\n",
            "750/750 [==============================] - 1s 1ms/step - loss: 0.4065 - accuracy: 0.8349\n",
            "Epoch 12/20\n",
            "750/750 [==============================] - 1s 1ms/step - loss: 0.4059 - accuracy: 0.8356\n",
            "Epoch 13/20\n",
            "750/750 [==============================] - 1s 1ms/step - loss: 0.4051 - accuracy: 0.8355\n",
            "Epoch 14/20\n",
            "750/750 [==============================] - 1s 1ms/step - loss: 0.4047 - accuracy: 0.8348\n",
            "Epoch 15/20\n",
            "750/750 [==============================] - 1s 1ms/step - loss: 0.4043 - accuracy: 0.8352\n",
            "Epoch 16/20\n",
            "750/750 [==============================] - 1s 1ms/step - loss: 0.4034 - accuracy: 0.8353\n",
            "Epoch 17/20\n",
            "750/750 [==============================] - 1s 1ms/step - loss: 0.4035 - accuracy: 0.8356\n",
            "Epoch 18/20\n",
            "750/750 [==============================] - 1s 1ms/step - loss: 0.4027 - accuracy: 0.8356\n",
            "Epoch 19/20\n",
            "750/750 [==============================] - 1s 1ms/step - loss: 0.4029 - accuracy: 0.8367\n",
            "Epoch 20/20\n",
            "750/750 [==============================] - 1s 1ms/step - loss: 0.4020 - accuracy: 0.8360\n"
          ]
        }
      ]
    },
    {
      "cell_type": "code",
      "metadata": {
        "colab": {
          "base_uri": "https://localhost:8080/"
        },
        "id": "qVF-b9nxPsxt",
        "outputId": "43cb820c-c398-4238-ac0b-a3a2be49cb26"
      },
      "source": [
        "print('Model evaluation ', model.evaluate(x_test, y_test))"
      ],
      "execution_count": null,
      "outputs": [
        {
          "output_type": "stream",
          "name": "stdout",
          "text": [
            "79/79 [==============================] - 0s 955us/step - loss: 0.4075 - accuracy: 0.8344\n",
            "Model evaluation  [0.40753766894340515, 0.8343999981880188]\n"
          ]
        }
      ]
    }
  ]
}